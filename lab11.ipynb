{
 "cells": [
  {
   "cell_type": "code",
   "execution_count": 1,
   "metadata": {},
   "outputs": [],
   "source": [
    "import numpy as np\n",
    "import pandas as pd\n",
    "import matplotlib.pyplot as plt\n",
    "from abc import ABC, abstractmethod\n",
    "from typing import Sequence, Callable\n",
    "from typing import Concatenate\n",
    "import subprocess"
   ]
  },
  {
   "cell_type": "code",
   "execution_count": 2,
   "metadata": {},
   "outputs": [],
   "source": [
    "class Point(ABC):\n",
    "    \n",
    "    def __init__(self, arr: Sequence) -> None:\n",
    "        self._correct_seq(arr)\n",
    "        self.array = np.array(arr)\n",
    "        \n",
    "    def norm(self) -> 'Point':\n",
    "        return self.__class__(self.array / np.linalg.norm(self.array))\n",
    "        \n",
    "    def get_mod(self) -> float:\n",
    "        return np.linalg.norm(self.array)\n",
    "        \n",
    "    @abstractmethod\n",
    "    def _correct_seq(self, arr: Sequence) -> None:\n",
    "        raise NotImplementedError\n",
    "    \n",
    "    def get(self, index: int) -> float:\n",
    "        return self.array[index]\n",
    "    \n",
    "    def __getitem__(self, index):\n",
    "        return self.array[index]\n",
    "    \n",
    "    def __setitem__(self, index, value):\n",
    "        self.array[index] = value\n",
    "        \n",
    "    def __add__(self, other):\n",
    "        new_array = self.array + other.array\n",
    "        return self.__class__(new_array)  # Создаем новый экземпляр того же класса с новым массивом\n",
    "    \n",
    "    def __mul__(self, other):\n",
    "        new_array = other * self.array\n",
    "        return self.__class__(new_array)  # Создаем новый экземпляр того же класса с новым массивом\n",
    "    \n",
    "    def __rmul__(self, other):\n",
    "        new_array = other * self.array\n",
    "        return self.__class__(new_array)\n",
    "\n",
    "    def __sub__(self, other):\n",
    "        new_array = self.array - other.array\n",
    "        return self.__class__(new_array)  # Создаем новый экземпляр того же класса с новым массивом\n",
    "    \n",
    "    def __neg__(self):\n",
    "        new_array = -self.array  # Применяем унарный минус к массиву точек\n",
    "        return self.__class__(new_array)"
   ]
  },
  {
   "cell_type": "code",
   "execution_count": 3,
   "metadata": {},
   "outputs": [],
   "source": [
    "\n",
    "\n",
    "\n",
    "class Point7d(Point):\n",
    "    \n",
    "    def _correct_seq(self, arr: Sequence) -> None:\n",
    "        if len(arr) != 7:\n",
    "            raise ValueError(f\"Размер массива = {len(arr)} не соответсвует ошиданию = {7}\")"
   ]
  },
  {
   "cell_type": "code",
   "execution_count": 4,
   "metadata": {},
   "outputs": [],
   "source": [
    "class Point1d(Point):\n",
    "    \n",
    "    def _correct_seq(self, arr: Sequence) -> None:\n",
    "        if len(arr) != 1:\n",
    "            raise ValueError(f\"Размер массива = {len(arr)} не соответсвует ошиданию = {1}\")"
   ]
  },
  {
   "cell_type": "code",
   "execution_count": 5,
   "metadata": {},
   "outputs": [],
   "source": [
    "class Point2d(Point):\n",
    "    \n",
    "    def _correct_seq(self, arr: Sequence) -> None:\n",
    "        if len(arr) != 2:\n",
    "            raise ValueError(f\"Размер массива = {len(arr)} не соответсвует ошиданию = {2}\")"
   ]
  },
  {
   "cell_type": "code",
   "execution_count": 6,
   "metadata": {},
   "outputs": [],
   "source": [
    "\n",
    "class Func(ABC):\n",
    "        \n",
    "    def get_grad(self, point: Point) -> Point:\n",
    "        raise NotImplementedError\n",
    "    \n",
    "    @abstractmethod\n",
    "    def create_point(self, arr: Sequence) -> Point:\n",
    "        raise NotImplementedError\n",
    "    \n",
    "    @abstractmethod\n",
    "    def size(self) -> int:\n",
    "        raise NotImplementedError\n",
    "\n",
    "    @abstractmethod\n",
    "    def __call__(self, point: Point) -> float:\n",
    "        raise NotImplementedError"
   ]
  },
  {
   "cell_type": "code",
   "execution_count": 7,
   "metadata": {},
   "outputs": [],
   "source": [
    "\n",
    "class Func2d(Func):\n",
    "    \n",
    "    \n",
    "    def get_grad(self, point: Point2d) -> Point2d:\n",
    "        x1, x2 = point[0], point[1]\n",
    "        return Point2d([4*x1-x2-1, 2*x2 - x1 - 1])\n",
    "    \n",
    "    def create_point(self, arr: Sequence) -> Point7d:\n",
    "        return Point2d(arr)\n",
    "    \n",
    "    def size(self) -> int:\n",
    "        return 2\n",
    "    \n",
    "    def __call__(self, point: Point2d) -> float:\n",
    "        x1, x2 = point[0], point[1]\n",
    "        return 2*x1**2 - x1*x2 + x2**2 - x1 - x2 + 1"
   ]
  },
  {
   "cell_type": "code",
   "execution_count": 8,
   "metadata": {},
   "outputs": [],
   "source": [
    "\n",
    "class Func7d(Func):\n",
    "    \n",
    "    def create_point(self, arr: Sequence) -> Point7d:\n",
    "        return Point7d(arr)\n",
    "    \n",
    "    def size(self) -> int:\n",
    "        return 7\n",
    "    \n",
    "    def __call__(self, point: Point7d) -> float:\n",
    "        return np.abs(np.sum(point.array))\n",
    "        #return point[0] + point[1] * point[2] - point[3] / point[4] + point[5] * point[6]\n",
    "    "
   ]
  },
  {
   "cell_type": "code",
   "execution_count": 9,
   "metadata": {},
   "outputs": [],
   "source": [
    "class Func1d(Func):\n",
    "    \n",
    "    def create_point(self, arr: Sequence) -> Point7d:\n",
    "        return Point1d(arr)\n",
    "    \n",
    "    def size(self) -> int:\n",
    "        return 1\n",
    "    \n",
    "    def __call__(self, point: Point1d) -> float:\n",
    "        return point[0] ** 2\n",
    "        return point[0]**6 + point[0]**4 - 6 * point[0]**3 + point[0]**5 + point[0]**2 + point[0]\n",
    "    "
   ]
  },
  {
   "cell_type": "code",
   "execution_count": 10,
   "metadata": {},
   "outputs": [],
   "source": [
    "def is_ok(point: Point) -> bool:\n",
    "    return True"
   ]
  },
  {
   "cell_type": "code",
   "execution_count": 11,
   "metadata": {},
   "outputs": [
    {
     "name": "stdout",
     "output_type": "stream",
     "text": [
      "Минимальная точка: [-4.67852847  3.42444391  0.52491785  2.11692065  2.8349823  -1.44872505\n",
      " -2.7837421 ]\n"
     ]
    }
   ],
   "source": [
    "def random_points(func: Func7d, count_points: int) -> Point7d:\n",
    "    points = [\n",
    "        Point7d(np.random.uniform(low=-10, high=10, size=func.size()))\n",
    "        for _ in range(count_points)\n",
    "    ]\n",
    "    \n",
    "    filtered_points = list(filter(lambda p: is_ok(p), points))\n",
    "    \n",
    "    if not filtered_points:\n",
    "        raise ValueError(\"Нет подходящих точек после фильтрации\")\n",
    "    \n",
    "    return min(filtered_points, key=lambda p: func(p))\n",
    "\n",
    "min_point = random_points(Func7d(), 1000)\n",
    "print(\"Минимальная точка:\", min_point.array)\n"
   ]
  },
  {
   "cell_type": "code",
   "execution_count": 12,
   "metadata": {},
   "outputs": [
    {
     "name": "stdout",
     "output_type": "stream",
     "text": [
      "Минимальная точка: [ 3.67821378 -9.74243856  8.84425145 -6.13514687  3.97827662 -1.91911212\n",
      "  1.29908653]\n",
      "            0         1         2         3         4         5         6\n",
      "0    8.876048 -4.515627  9.370458  4.511626  0.302855 -6.210540  9.784387\n",
      "1    2.723404  1.207800  4.598126 -6.521045 -0.740136 -5.759993 -7.085861\n",
      "2   -5.508054 -1.807405  9.129087  1.010539  4.458540  2.173471 -5.582520\n",
      "3   -0.695591 -1.177233 -3.087054 -7.651959 -7.401277  9.078080 -6.478383\n",
      "4    5.031653  6.274529 -3.131942  5.602270  6.556582  1.690060 -1.484077\n",
      "..        ...       ...       ...       ...       ...       ...       ...\n",
      "995 -2.110009 -9.895669 -3.483970 -7.178203  4.612533  9.474136 -2.400655\n",
      "996  8.235607 -5.978914 -3.791180  1.102479  9.809611 -2.040646 -5.007551\n",
      "997  2.584196  5.870127  5.263881  5.413396  0.446130 -4.482704 -2.710527\n",
      "998  3.937029 -4.659708 -0.339539 -4.480854 -7.663597 -9.063141 -7.490519\n",
      "999 -6.470990  2.801154 -7.272240  9.035433 -2.445893 -8.301115  4.196357\n",
      "\n",
      "[1000 rows x 7 columns]\n"
     ]
    }
   ],
   "source": [
    "def random_points(func: Func, count_points: int) -> tuple[Point7d, pd.DataFrame]:\n",
    "    points = [\n",
    "        func.create_point(np.random.uniform(low=-10, high=10, size=func.size()))\n",
    "        for _ in range(count_points)\n",
    "    ]\n",
    "    df = pd.DataFrame([point.array for point in points])\n",
    "    \n",
    "    filtered_points = list(filter(lambda p: is_ok(p), points))\n",
    "    \n",
    "    if not filtered_points:\n",
    "        raise ValueError(\"Нет подходящих точек после фильтрации\")\n",
    "    \n",
    "    return min(filtered_points, key=lambda p: func(p)), df\n",
    "\n",
    "min_point, df = random_points(Func7d(), 1000)\n",
    "print(\"Минимальная точка:\", min_point.array)\n",
    "print(df)"
   ]
  },
  {
   "cell_type": "code",
   "execution_count": 13,
   "metadata": {},
   "outputs": [
    {
     "name": "stdout",
     "output_type": "stream",
     "text": [
      "Минимальная точка: [-0.24980857]\n",
      "           0\n",
      "0  -5.129760\n",
      "1   0.922724\n",
      "2  -7.596457\n",
      "3  -4.499333\n",
      "4   8.372658\n",
      "..       ...\n",
      "95 -6.675206\n",
      "96 -7.143180\n",
      "97 -7.641696\n",
      "98 -1.168184\n",
      "99  1.445596\n",
      "\n",
      "[100 rows x 1 columns]\n"
     ]
    }
   ],
   "source": [
    "min_point, df = random_points(Func1d(), 100)\n",
    "print(\"Минимальная точка:\", min_point.array)\n",
    "print(df)"
   ]
  },
  {
   "cell_type": "code",
   "execution_count": 14,
   "metadata": {},
   "outputs": [],
   "source": [
    "def random_direction(func: Func, eps: float=0.005, step: float=0.1, count_failures: int=1):\n",
    "    def create_random_vec(size) -> np.ndarray:\n",
    "        random_vector = np.random.randn(size)\n",
    "        return random_vector / np.linalg.norm(random_vector)\n",
    "\n",
    "    random_vector = create_random_vec(func.size())\n",
    "\n",
    "    point = func.create_point(np.random.rand(func.size()))\n",
    "    point_new = func.create_point(point.array + step * random_vector)\n",
    "\n",
    "    f_point = func(point)\n",
    "    f_new_point = func(point_new)\n",
    "\n",
    "    count_fails = 0\n",
    "    while abs(f_point - f_new_point)/2 > eps:\n",
    "        point = point_new\n",
    "        point_new = func.create_point(point.array + step * random_vector)\n",
    "        f_point = func(point)\n",
    "        f_new_point = func(point_new)\n",
    "        if f_new_point > f_point:\n",
    "            count_fails += 1\n",
    "        else:\n",
    "            count_fails = 0\n",
    "            \n",
    "        if count_fails >= count_failures:\n",
    "            point = func.create_point(point.array - count_fails * random_vector)\n",
    "            random_vector = create_random_vec(func.size())\n",
    "            point_new = func.create_point(point.array + step * random_vector)\n",
    "            count_fails = 0\n",
    "\n",
    "    return point_new\n",
    "\n"
   ]
  },
  {
   "cell_type": "code",
   "execution_count": null,
   "metadata": {},
   "outputs": [],
   "source": []
  },
  {
   "cell_type": "code",
   "execution_count": 15,
   "metadata": {},
   "outputs": [
    {
     "name": "stdout",
     "output_type": "stream",
     "text": [
      "[0.00293454]\n",
      "8.611539025251811e-06\n"
     ]
    }
   ],
   "source": [
    "point = random_direction(Func1d())\n",
    "print(point.array)\n",
    "print(Func1d()(point))"
   ]
  },
  {
   "cell_type": "code",
   "execution_count": 16,
   "metadata": {},
   "outputs": [
    {
     "name": "stdout",
     "output_type": "stream",
     "text": [
      "[-2.55791253  3.5401885  -2.70149346  3.03542017 -1.14338811 -4.28351095\n",
      "  4.50247843]\n",
      "0.39178205505379093\n"
     ]
    }
   ],
   "source": [
    "point = random_direction(Func7d())\n",
    "print(point.array)\n",
    "print(Func7d()(point))"
   ]
  },
  {
   "cell_type": "code",
   "execution_count": 17,
   "metadata": {},
   "outputs": [],
   "source": [
    "def random_direction(func: Func, eps: float=0.005, step: float=0.1, count_failures: int=1) -> tuple[Point, pd.DataFrame]:\n",
    "    def create_random_vec(size) -> np.ndarray:\n",
    "        random_vector = np.random.randn(size)\n",
    "        return random_vector / np.linalg.norm(random_vector)\n",
    "    \n",
    "    df = []\n",
    "\n",
    "    random_vector = create_random_vec(func.size())\n",
    "\n",
    "    point = func.create_point(np.random.rand(func.size()))\n",
    "    df.append(point.array)\n",
    "    point_new = func.create_point(point.array + step * random_vector)\n",
    "\n",
    "    f_point = func(point)\n",
    "    f_new_point = func(point_new)\n",
    "\n",
    "    count_fails = 0\n",
    "    while abs(f_point - f_new_point)/2 > eps:\n",
    "        point = point_new\n",
    "        df.append(point.array)\n",
    "        point_new = func.create_point(point.array + step * random_vector)\n",
    "        f_point = func(point)\n",
    "        f_new_point = func(point_new)\n",
    "        if f_new_point > f_point:\n",
    "            count_fails += 1\n",
    "        else:\n",
    "            count_fails = 0\n",
    "            \n",
    "        if count_fails >= count_failures:\n",
    "            point = func.create_point(point.array - count_fails * random_vector)\n",
    "            df.append(point.array)\n",
    "            random_vector = create_random_vec(func.size())\n",
    "            point_new = func.create_point(point.array + step * random_vector)\n",
    "            count_fails = 0\n",
    "\n",
    "    return point_new, pd.DataFrame(df)"
   ]
  },
  {
   "cell_type": "code",
   "execution_count": 18,
   "metadata": {},
   "outputs": [
    {
     "name": "stdout",
     "output_type": "stream",
     "text": [
      "[0.60134239 0.56930506]\n",
      "          0         1\n",
      "0  0.455214  0.307300\n",
      "1  0.503923  0.394635\n",
      "2  0.552633  0.481970\n",
      "0.5343388735640373\n"
     ]
    }
   ],
   "source": [
    "point, df = random_direction(Func2d())\n",
    "print(point.array)\n",
    "print(df)\n",
    "print(Func2d()(point))\n",
    "df.to_csv('my_data.csv', index=False)"
   ]
  },
  {
   "cell_type": "code",
   "execution_count": 19,
   "metadata": {},
   "outputs": [],
   "source": [
    "def random_direction_correcting_steps(func: Func, eps: float=0.005, step: float=2, count_failures: int=3):\n",
    "    def create_random_vec(size) -> np.ndarray:\n",
    "        random_vector = np.random.randn(size)\n",
    "        return random_vector / np.linalg.norm(random_vector)\n",
    "\n",
    "    random_vector = create_random_vec(func.size())\n",
    "\n",
    "    point = func.create_point(np.random.rand(func.size()))\n",
    "    point_new = func.create_point(point.array + step * random_vector)\n",
    "\n",
    "    f_point = func(point)\n",
    "    f_new_point = func(point_new)\n",
    "\n",
    "    count_fails = 0\n",
    "    while abs(f_point - f_new_point)/2 > eps:\n",
    "        point = point_new\n",
    "        point_new = func.create_point(point.array + step * random_vector)\n",
    "        f_point = func(point)\n",
    "        f_new_point = func(point_new)\n",
    "        if f_new_point > f_point:\n",
    "            count_fails += 1\n",
    "            step /= 2\n",
    "        else:\n",
    "            count_fails = 0\n",
    "            \n",
    "        if count_fails >= count_failures:\n",
    "            point = func.create_point(point.array - count_fails * random_vector)\n",
    "            random_vector = create_random_vec(func.size())\n",
    "            point_new = func.create_point(point.array + step * random_vector)\n",
    "            count_fails = 0\n",
    "\n",
    "    return point_new"
   ]
  },
  {
   "cell_type": "code",
   "execution_count": 20,
   "metadata": {},
   "outputs": [
    {
     "name": "stdout",
     "output_type": "stream",
     "text": [
      "[0.14191624]\n",
      "0.020140219427659437\n"
     ]
    }
   ],
   "source": [
    "point = random_direction_correcting_steps(Func1d())\n",
    "print(point.array)\n",
    "print(Func1d()(point))"
   ]
  },
  {
   "cell_type": "code",
   "execution_count": 21,
   "metadata": {},
   "outputs": [
    {
     "name": "stdout",
     "output_type": "stream",
     "text": [
      "[-1.70212937  1.00716508 -0.17316866 -0.20288286  0.02042071  0.06871041\n",
      "  1.22068452]\n",
      "0.23879983031396756\n"
     ]
    }
   ],
   "source": [
    "point = random_direction_correcting_steps(Func7d())\n",
    "print(point.array)\n",
    "print(Func7d()(point))"
   ]
  },
  {
   "cell_type": "code",
   "execution_count": 22,
   "metadata": {},
   "outputs": [],
   "source": [
    "def random_direction_correcting_steps(func: Func, eps: float=0.005, step: float=2, count_failures: int=3) -> tuple[Point, pd.DataFrame]:\n",
    "    def create_random_vec(size) -> np.ndarray:\n",
    "        random_vector = np.random.randn(size)\n",
    "        return random_vector / np.linalg.norm(random_vector)\n",
    "\n",
    "    random_vector = create_random_vec(func.size())\n",
    "\n",
    "    df = []\n",
    "    point = func.create_point(np.random.rand(func.size()))\n",
    "    df.append(point.array)\n",
    "    point_new = func.create_point(point.array + step * random_vector)\n",
    "\n",
    "    f_point = func(point)\n",
    "    f_new_point = func(point_new)\n",
    "\n",
    "    count_fails = 0\n",
    "    while abs(f_point - f_new_point)/2 > eps:\n",
    "        point = point_new\n",
    "        df.append(point.array)\n",
    "        point_new = func.create_point(point.array + step * random_vector)\n",
    "        f_point = func(point)\n",
    "        f_new_point = func(point_new)\n",
    "        if f_new_point > f_point:\n",
    "            count_fails += 1\n",
    "            step /= 2\n",
    "        else:\n",
    "            count_fails = 0\n",
    "            \n",
    "        if count_fails >= count_failures:\n",
    "            point = func.create_point(point.array - count_fails * random_vector)\n",
    "            df.append(point.array)\n",
    "            random_vector = create_random_vec(func.size())\n",
    "            point_new = func.create_point(point.array + step * random_vector)\n",
    "            count_fails = 0\n",
    "\n",
    "    return point_new, pd.DataFrame(df)"
   ]
  },
  {
   "cell_type": "code",
   "execution_count": 23,
   "metadata": {},
   "outputs": [
    {
     "name": "stdout",
     "output_type": "stream",
     "text": [
      "[-1.03718272  2.96957477]\n",
      "13.117469869415531\n"
     ]
    }
   ],
   "source": [
    "point, df = random_direction_correcting_steps(Func2d())\n",
    "print(point.array)\n",
    "print(Func2d()(point))\n",
    "df.to_csv('my_data2.csv', index=False)"
   ]
  },
  {
   "cell_type": "markdown",
   "metadata": {},
   "source": [
    "## Лабораторная 12"
   ]
  },
  {
   "cell_type": "code",
   "execution_count": 24,
   "metadata": {},
   "outputs": [],
   "source": [
    "def grad_method(func: Func, start_point: Point, step: float = 0.01, eps: float = 0.01) -> Point:\n",
    "    \n",
    "    grad = func.get_grad(start_point)\n",
    "    new_point = func.create_point(start_point.array - step*grad.norm().array)\n",
    "    while grad.get_mod() > eps:\n",
    "        start_point = new_point\n",
    "        new_point = func.create_point(new_point.array - step*grad.norm().array)\n",
    "        grad = func.get_grad(start_point)\n",
    "        \n",
    "    return new_point\n",
    "        "
   ]
  },
  {
   "cell_type": "code",
   "execution_count": 25,
   "metadata": {},
   "outputs": [
    {
     "name": "stdout",
     "output_type": "stream",
     "text": [
      "[0.42652636 0.70936133]\n",
      "0.4285939720202552\n"
     ]
    }
   ],
   "source": [
    "point = grad_method(Func2d(), Point2d([1,1]))\n",
    "print(point.array)\n",
    "print(Func2d()(point))"
   ]
  },
  {
   "cell_type": "code",
   "execution_count": 26,
   "metadata": {},
   "outputs": [],
   "source": [
    "def grad_method(func: Func, start_point: Point, step: float = 0.01, eps: float = 0.01) -> tuple[Point, pd.DataFrame]:\n",
    "    \n",
    "    df = []\n",
    "    df.append(start_point.array)\n",
    "    grad = func.get_grad(start_point)\n",
    "    new_point = func.create_point(start_point.array - step*grad.norm().array)\n",
    "    while grad.get_mod() > eps:\n",
    "        start_point = new_point\n",
    "        df.append(start_point.array)\n",
    "        new_point = func.create_point(new_point.array - step*grad.norm().array)\n",
    "        grad = func.get_grad(start_point)\n",
    "        \n",
    "    return new_point, pd.DataFrame(df)\n",
    "        "
   ]
  },
  {
   "cell_type": "code",
   "execution_count": 27,
   "metadata": {},
   "outputs": [
    {
     "name": "stdout",
     "output_type": "stream",
     "text": [
      "[0.42652636 0.70936133]\n",
      "0.4285939720202552\n"
     ]
    }
   ],
   "source": [
    "point, df = grad_method(Func2d(), Point2d([1,1]))\n",
    "print(point.array)\n",
    "print(Func2d()(point))\n",
    "df.to_csv('my_data3.csv', index=False)"
   ]
  },
  {
   "cell_type": "code",
   "execution_count": 28,
   "metadata": {},
   "outputs": [],
   "source": [
    "def grad_method_correcting_step(func: Func, start_point: Point, step: float = 1, eps: float = 0.01) -> Point:\n",
    "    \n",
    "    f_start_point = func(start_point)\n",
    "    grad = func.get_grad(start_point)\n",
    "    new_point = func.create_point(start_point.array - step*grad.norm().array)\n",
    "    f_new_point = func(new_point)\n",
    "    while grad.get_mod() > eps:\n",
    "        start_point = new_point\n",
    "        f_start_point = f_new_point\n",
    "        new_point = func.create_point(new_point.array - step*grad.norm().array)\n",
    "        f_new_point = func(new_point)\n",
    "        grad = func.get_grad(start_point)\n",
    "        \n",
    "        if f_start_point < f_new_point:\n",
    "            step /= 3\n",
    "        \n",
    "    return new_point"
   ]
  },
  {
   "cell_type": "code",
   "execution_count": 29,
   "metadata": {},
   "outputs": [
    {
     "name": "stdout",
     "output_type": "stream",
     "text": [
      "[0.4408601  0.70945094]\n",
      "0.42895623940143013\n"
     ]
    }
   ],
   "source": [
    "point = grad_method_correcting_step(Func2d(), Point2d([1,1]))\n",
    "print(point.array)\n",
    "print(Func2d()(point))"
   ]
  },
  {
   "cell_type": "code",
   "execution_count": 41,
   "metadata": {},
   "outputs": [],
   "source": [
    "def grad_method_correcting_step(func: Func, start_point: Point, max_iter: int = 1000,\n",
    "                                step: float = 1, eps: float = 0.01) -> tuple[Point, pd.DataFrame]:\n",
    "    \n",
    "    \n",
    "    \n",
    "    df = []\n",
    "    df.append(start_point.array)\n",
    "    f_start_point = func(start_point)\n",
    "    grad = func.get_grad(start_point)\n",
    "    new_point = func.create_point(start_point.array - step*grad.norm().array)\n",
    "    f_new_point = func(new_point)\n",
    "    count_iter = 0\n",
    "    while grad.get_mod() > eps and count_iter <= max_iter:\n",
    "        count_iter += 1\n",
    "        start_point = new_point\n",
    "        df.append(start_point.array)\n",
    "        f_start_point = f_new_point\n",
    "        new_point = func.create_point(new_point.array - step*grad.norm().array)\n",
    "        f_new_point = func(new_point)\n",
    "        grad = func.get_grad(start_point)\n",
    "        \n",
    "        if f_start_point < f_new_point:\n",
    "            step /= 3\n",
    "        \n",
    "    print(f\"Глобальный минимум не был найден за {max_iter} итераций\")\n",
    "    return new_point, pd.DataFrame(df)"
   ]
  },
  {
   "cell_type": "code",
   "execution_count": 31,
   "metadata": {},
   "outputs": [
    {
     "name": "stdout",
     "output_type": "stream",
     "text": [
      "[0.4408601  0.70945094]\n",
      "0.42895623940143013\n"
     ]
    }
   ],
   "source": [
    "point, df = grad_method_correcting_step(Func2d(), Point2d([1,1]))\n",
    "print(point.array)\n",
    "print(Func2d()(point))\n",
    "df.to_csv('my_data4.csv', index=False)"
   ]
  },
  {
   "cell_type": "code",
   "execution_count": 32,
   "metadata": {},
   "outputs": [],
   "source": [
    "class Func2dv2(Func):\n",
    "    def get_grad(self, point: Point2d) -> Point2d:\n",
    "        x1, x2 = point[0], point[1]\n",
    "        return -Point2d([-2*x1+8, -2*x2+10])\n",
    "    \n",
    "    def create_point(self, arr: Sequence) -> Point7d:\n",
    "        return Point2d(arr)\n",
    "    \n",
    "    def size(self) -> int:\n",
    "        return 2\n",
    "    \n",
    "    def __call__(self, point: Point2d) -> float:\n",
    "        x1, x2 = point[0], point[1]\n",
    "        return -(5-(x1 - 4)**2 - (x2-5)**2)"
   ]
  },
  {
   "cell_type": "code",
   "execution_count": 33,
   "metadata": {},
   "outputs": [
    {
     "name": "stdout",
     "output_type": "stream",
     "text": [
      "[4.01038796 5.01298495]\n",
      "-4.999723481381371\n"
     ]
    }
   ],
   "source": [
    "point, df = grad_method_correcting_step(Func2dv2(), Point2d([0,0]))\n",
    "print(point.array)\n",
    "print(Func2dv2()(point))"
   ]
  },
  {
   "cell_type": "code",
   "execution_count": 34,
   "metadata": {},
   "outputs": [
    {
     "name": "stdout",
     "output_type": "stream",
     "text": [
      "[4.006 5.008]\n",
      "-4.9999\n"
     ]
    }
   ],
   "source": [
    "point, df = grad_method(Func2dv2(), Point2d([1,1]))\n",
    "print(point.array)\n",
    "print(Func2dv2()(point))"
   ]
  },
  {
   "cell_type": "code",
   "execution_count": 35,
   "metadata": {},
   "outputs": [],
   "source": [
    "class Func2dv3(Func):\n",
    "    \n",
    "    \n",
    "    def get_grad(self, point: Point2d) -> Point2d:\n",
    "        x1, x2 = point[0], point[1]\n",
    "        return -Point2d([4*x1-x2-1, 2*x2 - x1 - 1])\n",
    "    \n",
    "    def create_point(self, arr: Sequence) -> Point7d:\n",
    "        return Point2d(arr)\n",
    "    \n",
    "    def size(self) -> int:\n",
    "        return 2\n",
    "    \n",
    "    def __call__(self, point: Point2d) -> float:\n",
    "        x1, x2 = point[0], point[1]\n",
    "        return -(2*x1**2 - x1*x2 + x2**2 - x1 - x2 + 1)"
   ]
  },
  {
   "cell_type": "code",
   "execution_count": 42,
   "metadata": {},
   "outputs": [
    {
     "name": "stdout",
     "output_type": "stream",
     "text": [
      "Глобальный минимум не был найден за 1000 итераций\n",
      "[ 931.18203695 -370.77985506]\n",
      "-2216381.8113007136\n"
     ]
    }
   ],
   "source": [
    "point, df = grad_method_correcting_step(Func2dv3(), Point2d([1,1]))\n",
    "print(point.array)\n",
    "print(Func2dv3()(point))"
   ]
  }
 ],
 "metadata": {
  "kernelspec": {
   "display_name": "Python 3",
   "language": "python",
   "name": "python3"
  },
  "language_info": {
   "codemirror_mode": {
    "name": "ipython",
    "version": 3
   },
   "file_extension": ".py",
   "mimetype": "text/x-python",
   "name": "python",
   "nbconvert_exporter": "python",
   "pygments_lexer": "ipython3",
   "version": "3.10.6"
  }
 },
 "nbformat": 4,
 "nbformat_minor": 2
}
