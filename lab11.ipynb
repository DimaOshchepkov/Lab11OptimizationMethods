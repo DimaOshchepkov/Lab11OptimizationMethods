{
 "cells": [
  {
   "cell_type": "code",
   "execution_count": 328,
   "metadata": {},
   "outputs": [],
   "source": [
    "import numpy as np\n",
    "import pandas as pd\n",
    "import matplotlib.pyplot as plt\n",
    "from abc import ABC, abstractmethod\n",
    "from typing import Sequence"
   ]
  },
  {
   "cell_type": "code",
   "execution_count": 329,
   "metadata": {},
   "outputs": [],
   "source": [
    "class Point(ABC):\n",
    "    \n",
    "    def __init__(self, arr: Sequence) -> None:\n",
    "        self._correct_seq(arr)\n",
    "        self.array = np.array(arr)\n",
    "        \n",
    "    @abstractmethod\n",
    "    def _correct_seq(self, arr: Sequence) -> None:\n",
    "        raise NotImplementedError\n",
    "    \n",
    "    def get(self, index: int) -> float:\n",
    "        return self.array[index]\n",
    "    \n",
    "    def __getitem__(self, index):\n",
    "        return self.array[index]\n",
    "    \n",
    "    def __setitem__(self, index, value):\n",
    "        self.array[index] = value\n",
    "        \n",
    "    def __add__(self, other):\n",
    "        new_array = self.array + other.array\n",
    "        return self.__class__(new_array)  # Создаем новый экземпляр того же класса с новым массивом\n",
    "\n",
    "    def __sub__(self, other):\n",
    "        new_array = self.array - other.array\n",
    "        return self.__class__(new_array)  # Создаем новый экземпляр того же класса с новым массивом"
   ]
  },
  {
   "cell_type": "code",
   "execution_count": 330,
   "metadata": {},
   "outputs": [],
   "source": [
    "\n",
    "\n",
    "\n",
    "class Point7d(Point):\n",
    "    \n",
    "    def _correct_seq(self, arr: Sequence) -> None:\n",
    "        if len(arr) != 7:\n",
    "            raise ValueError(f\"Размер массива = {len(arr)} не соответсвует ошиданию = {7}\")"
   ]
  },
  {
   "cell_type": "code",
   "execution_count": 331,
   "metadata": {},
   "outputs": [],
   "source": [
    "class Point1d(Point):\n",
    "    \n",
    "    def _correct_seq(self, arr: Sequence) -> None:\n",
    "        if len(arr) != 1:\n",
    "            raise ValueError(f\"Размер массива = {len(arr)} не соответсвует ошиданию = {1}\")"
   ]
  },
  {
   "cell_type": "code",
   "execution_count": 332,
   "metadata": {},
   "outputs": [],
   "source": [
    "class Point2d(Point):\n",
    "    \n",
    "    def _correct_seq(self, arr: Sequence) -> None:\n",
    "        if len(arr) != 2:\n",
    "            raise ValueError(f\"Размер массива = {len(arr)} не соответсвует ошиданию = {2}\")"
   ]
  },
  {
   "cell_type": "code",
   "execution_count": 333,
   "metadata": {},
   "outputs": [],
   "source": [
    "class Func(ABC):\n",
    "    \n",
    "    @abstractmethod\n",
    "    def create_point(self, arr: Sequence) -> Point:\n",
    "        raise NotImplementedError\n",
    "    \n",
    "    @abstractmethod\n",
    "    def size(self) -> int:\n",
    "        raise NotImplementedError\n",
    "\n",
    "    @abstractmethod\n",
    "    def __call__(self, point: Point) -> float:\n",
    "        raise NotImplementedError"
   ]
  },
  {
   "cell_type": "code",
   "execution_count": 349,
   "metadata": {},
   "outputs": [],
   "source": [
    "class Func2d(Func):\n",
    "    \n",
    "    def create_point(self, arr: Sequence) -> Point7d:\n",
    "        return Point2d(arr)\n",
    "    \n",
    "    def size(self) -> int:\n",
    "        return 2\n",
    "    \n",
    "    def __call__(self, point: Point7d) -> float:\n",
    "        return np.abs(np.sum(point.array))"
   ]
  },
  {
   "cell_type": "code",
   "execution_count": 335,
   "metadata": {},
   "outputs": [],
   "source": [
    "\n",
    "class Func7d(Func):\n",
    "    \n",
    "    def create_point(self, arr: Sequence) -> Point7d:\n",
    "        return Point7d(arr)\n",
    "    \n",
    "    def size(self) -> int:\n",
    "        return 7\n",
    "    \n",
    "    def __call__(self, point: Point7d) -> float:\n",
    "        return np.abs(np.sum(point.array))\n",
    "        #return point[0] + point[1] * point[2] - point[3] / point[4] + point[5] * point[6]\n",
    "    "
   ]
  },
  {
   "cell_type": "code",
   "execution_count": 336,
   "metadata": {},
   "outputs": [],
   "source": [
    "class Func1d(Func):\n",
    "    \n",
    "    def create_point(self, arr: Sequence) -> Point7d:\n",
    "        return Point1d(arr)\n",
    "    \n",
    "    def size(self) -> int:\n",
    "        return 1\n",
    "    \n",
    "    def __call__(self, point: Point1d) -> float:\n",
    "        return point[0] ** 2\n",
    "        return point[0]**6 + point[0]**4 - 6 * point[0]**3 + point[0]**5 + point[0]**2 + point[0]\n",
    "    "
   ]
  },
  {
   "cell_type": "code",
   "execution_count": 337,
   "metadata": {},
   "outputs": [],
   "source": [
    "def is_ok(point: Point) -> bool:\n",
    "    return True"
   ]
  },
  {
   "cell_type": "code",
   "execution_count": 338,
   "metadata": {},
   "outputs": [
    {
     "name": "stdout",
     "output_type": "stream",
     "text": [
      "Минимальная точка: [-6.19515341 -3.67925858  4.1606283   4.71147142 -6.28903119  2.82037458\n",
      "  4.49120387]\n"
     ]
    }
   ],
   "source": [
    "def random_points(func: Func7d, count_points: int) -> Point7d:\n",
    "    points = [\n",
    "        Point7d(np.random.uniform(low=-10, high=10, size=func.size()))\n",
    "        for _ in range(count_points)\n",
    "    ]\n",
    "    \n",
    "    filtered_points = list(filter(lambda p: is_ok(p), points))\n",
    "    \n",
    "    if not filtered_points:\n",
    "        raise ValueError(\"Нет подходящих точек после фильтрации\")\n",
    "    \n",
    "    return min(filtered_points, key=lambda p: func(p))\n",
    "\n",
    "min_point = random_points(Func7d(), 1000)\n",
    "print(\"Минимальная точка:\", min_point.array)\n"
   ]
  },
  {
   "cell_type": "code",
   "execution_count": 339,
   "metadata": {},
   "outputs": [
    {
     "name": "stdout",
     "output_type": "stream",
     "text": [
      "Минимальная точка: [-6.41691546 -0.14285714  1.62538154  3.4968981  -4.03293523  1.98212235\n",
      "  3.49370775]\n",
      "            0         1         2         3         4         5         6\n",
      "0   -2.117557  2.267029 -0.059148  3.872918  2.543128 -3.627424  9.422202\n",
      "1    7.191639  5.562309  2.947218 -7.975182  6.987667  5.008884  1.349425\n",
      "2   -0.841851 -4.267547 -7.948192 -6.476184 -6.338796 -6.362220  9.510137\n",
      "3    0.297589  3.419775  9.031608  4.770297 -1.366775 -0.854609 -9.739712\n",
      "4   -9.255000  2.655316  8.739177  6.267389 -6.680576 -0.893742 -6.800416\n",
      "..        ...       ...       ...       ...       ...       ...       ...\n",
      "995  6.447901  5.272999 -6.420436 -5.481123  2.565577  4.284818 -0.040469\n",
      "996  3.183341  6.496427 -5.049177 -6.836868  4.483586 -6.748488  5.876360\n",
      "997 -0.453026 -9.270678  9.374772 -3.105367 -8.746818  4.235445 -2.913677\n",
      "998  8.727968  5.467237 -6.384152  0.494860 -8.880640 -0.054997  0.499687\n",
      "999 -6.416915 -0.142857  1.625382  3.496898 -4.032935  1.982122  3.493708\n",
      "\n",
      "[1000 rows x 7 columns]\n"
     ]
    }
   ],
   "source": [
    "def random_points(func: Func, count_points: int) -> tuple[Point7d, pd.DataFrame]:\n",
    "    points = [\n",
    "        func.create_point(np.random.uniform(low=-10, high=10, size=func.size()))\n",
    "        for _ in range(count_points)\n",
    "    ]\n",
    "    df = pd.DataFrame([point.array for point in points])\n",
    "    \n",
    "    filtered_points = list(filter(lambda p: is_ok(p), points))\n",
    "    \n",
    "    if not filtered_points:\n",
    "        raise ValueError(\"Нет подходящих точек после фильтрации\")\n",
    "    \n",
    "    return min(filtered_points, key=lambda p: func(p)), df\n",
    "\n",
    "min_point, df = random_points(Func7d(), 1000)\n",
    "print(\"Минимальная точка:\", min_point.array)\n",
    "print(df)"
   ]
  },
  {
   "cell_type": "code",
   "execution_count": 340,
   "metadata": {},
   "outputs": [
    {
     "name": "stdout",
     "output_type": "stream",
     "text": [
      "Минимальная точка: [0.0422799]\n",
      "           0\n",
      "0  -5.231303\n",
      "1   7.110168\n",
      "2   1.250733\n",
      "3  -6.614014\n",
      "4   1.216129\n",
      "..       ...\n",
      "95  9.139083\n",
      "96 -5.097470\n",
      "97 -0.123399\n",
      "98 -2.115827\n",
      "99  8.467115\n",
      "\n",
      "[100 rows x 1 columns]\n"
     ]
    }
   ],
   "source": [
    "min_point, df = random_points(Func1d(), 100)\n",
    "print(\"Минимальная точка:\", min_point.array)\n",
    "print(df)"
   ]
  },
  {
   "cell_type": "code",
   "execution_count": 341,
   "metadata": {},
   "outputs": [],
   "source": [
    "def random_direction(func: Func, eps: float=0.005, step: float=0.1, count_failures: int=1):\n",
    "    def create_random_vec(size) -> np.ndarray:\n",
    "        random_vector = np.random.randn(size)\n",
    "        return random_vector / np.linalg.norm(random_vector)\n",
    "\n",
    "    random_vector = create_random_vec(func.size())\n",
    "\n",
    "    point = func.create_point(np.random.rand(func.size()))\n",
    "    point_new = func.create_point(point.array + step * random_vector)\n",
    "\n",
    "    f_point = func(point)\n",
    "    f_new_point = func(point_new)\n",
    "\n",
    "    count_fails = 0\n",
    "    while abs(f_point - f_new_point)/2 > eps:\n",
    "        point = point_new\n",
    "        point_new = func.create_point(point.array + step * random_vector)\n",
    "        f_point = func(point)\n",
    "        f_new_point = func(point_new)\n",
    "        if f_new_point > f_point:\n",
    "            count_fails += 1\n",
    "        else:\n",
    "            count_fails = 0\n",
    "            \n",
    "        if count_fails >= count_failures:\n",
    "            point = func.create_point(point.array - count_fails * random_vector)\n",
    "            random_vector = create_random_vec(func.size())\n",
    "            point_new = func.create_point(point.array + step * random_vector)\n",
    "            count_fails = 0\n",
    "\n",
    "    return point_new\n",
    "\n"
   ]
  },
  {
   "cell_type": "code",
   "execution_count": null,
   "metadata": {},
   "outputs": [],
   "source": []
  },
  {
   "cell_type": "code",
   "execution_count": 342,
   "metadata": {},
   "outputs": [
    {
     "name": "stdout",
     "output_type": "stream",
     "text": [
      "[-0.02581806]\n",
      "0.0006665723869220015\n"
     ]
    }
   ],
   "source": [
    "point = random_direction(Func1d())\n",
    "print(point.array)\n",
    "print(Func1d()(point))"
   ]
  },
  {
   "cell_type": "code",
   "execution_count": 343,
   "metadata": {},
   "outputs": [
    {
     "name": "stdout",
     "output_type": "stream",
     "text": [
      "[-0.5159444  -1.14612077 -1.11515301  0.27255169  2.03490629  0.22775502\n",
      "  0.22888615]\n",
      "0.01311902667269954\n"
     ]
    }
   ],
   "source": [
    "point = random_direction(Func7d())\n",
    "print(point.array)\n",
    "print(Func7d()(point))"
   ]
  },
  {
   "cell_type": "code",
   "execution_count": 344,
   "metadata": {},
   "outputs": [],
   "source": [
    "def random_direction(func: Func, eps: float=0.005, step: float=0.1, count_failures: int=1) -> tuple[Point, pd.DataFrame]:\n",
    "    def create_random_vec(size) -> np.ndarray:\n",
    "        random_vector = np.random.randn(size)\n",
    "        return random_vector / np.linalg.norm(random_vector)\n",
    "    \n",
    "    df = []\n",
    "\n",
    "    random_vector = create_random_vec(func.size())\n",
    "\n",
    "    point = func.create_point(np.random.rand(func.size()))\n",
    "    df.append(point.array)\n",
    "    point_new = func.create_point(point.array + step * random_vector)\n",
    "\n",
    "    f_point = func(point)\n",
    "    f_new_point = func(point_new)\n",
    "\n",
    "    count_fails = 0\n",
    "    while abs(f_point - f_new_point)/2 > eps:\n",
    "        point = point_new\n",
    "        df.append(point.array)\n",
    "        point_new = func.create_point(point.array + step * random_vector)\n",
    "        f_point = func(point)\n",
    "        f_new_point = func(point_new)\n",
    "        if f_new_point > f_point:\n",
    "            count_fails += 1\n",
    "        else:\n",
    "            count_fails = 0\n",
    "            \n",
    "        if count_fails >= count_failures:\n",
    "            point = func.create_point(point.array - count_fails * random_vector)\n",
    "            df.append(point.array)\n",
    "            random_vector = create_random_vec(func.size())\n",
    "            point_new = func.create_point(point.array + step * random_vector)\n",
    "            count_fails = 0\n",
    "\n",
    "    return point_new, pd.DataFrame(df)"
   ]
  },
  {
   "cell_type": "code",
   "execution_count": 364,
   "metadata": {},
   "outputs": [
    {
     "name": "stdout",
     "output_type": "stream",
     "text": [
      "[-0.02337367 -0.00917484]\n",
      "           0         1\n",
      "0   0.053224  0.660530\n",
      "1   0.089278  0.753805\n",
      "2  -0.271261 -0.178939\n",
      "3  -0.260745 -0.278385\n",
      "4  -0.365908  0.716070\n",
      "5  -0.463166  0.692816\n",
      "6  -0.560425  0.669562\n",
      "7  -0.657684  0.646309\n",
      "8   0.314903  0.878848\n",
      "9   0.406779  0.918331\n",
      "10 -0.511976  0.523503\n",
      "11 -0.516557  0.423608\n",
      "12 -0.470746  1.422558\n",
      "13 -0.440921  1.327109\n",
      "14 -0.411096  1.231660\n",
      "15 -0.381272  1.136211\n",
      "16 -0.351447  1.040762\n",
      "17 -0.321622  0.945314\n",
      "18 -0.291797  0.849865\n",
      "19 -0.261972  0.754416\n",
      "20 -0.232147  0.658967\n",
      "21 -0.202323  0.563518\n",
      "22 -0.172498  0.468069\n",
      "23 -0.142673  0.372621\n",
      "24 -0.112848  0.277172\n",
      "25 -0.083023  0.181723\n",
      "26 -0.053198  0.086274\n",
      "0.03254851083235252\n"
     ]
    }
   ],
   "source": [
    "point, df = random_direction(Func2d())\n",
    "print(point.array)\n",
    "print(df)\n",
    "print(Func2d()(point))\n",
    "df.to_csv('my_data.csv', index=False)"
   ]
  },
  {
   "cell_type": "code",
   "execution_count": 363,
   "metadata": {},
   "outputs": [
    {
     "data": {
      "image/png": "[encoded data removed]",
      "text/plain": [
       "<Figure size 800x600 with 1 Axes>"
      ]
     },
     "metadata": {},
     "output_type": "display_data"
    }
   ],
   "source": [
    "import matplotlib.pyplot as plt\n",
    "\n",
    "# Разделение данных на отдельные списки для x и y\n",
    "x_values = df.iloc[:,0]\n",
    "y_values = df.iloc[:,1]\n",
    "\n",
    "# Построение графика перемещения точек\n",
    "plt.figure(figsize=(8, 6))\n",
    "plt.plot(x_values, y_values, marker='o', linestyle='-')\n",
    "plt.title('Перемещение точек по координатам')\n",
    "plt.xlabel('Ось X')\n",
    "plt.ylabel('Ось Y')\n",
    "plt.grid(True)\n",
    "plt.show()"
   ]
  },
  {
   "cell_type": "code",
   "execution_count": null,
   "metadata": {},
   "outputs": [],
   "source": [
    "def random_direction_correting_steps(func: Func, eps: float=0.005, step: float=2, count_failures: int=3):\n",
    "    def create_random_vec(size) -> np.ndarray:\n",
    "        random_vector = np.random.randn(size)\n",
    "        return random_vector / np.linalg.norm(random_vector)\n",
    "\n",
    "    random_vector = create_random_vec(func.size())\n",
    "\n",
    "    point = func.create_point(np.random.rand(func.size()))\n",
    "    point_new = func.create_point(point.array + step * random_vector)\n",
    "\n",
    "    f_point = func(point)\n",
    "    f_new_point = func(point_new)\n",
    "\n",
    "    count_fails = 0\n",
    "    while abs(f_point - f_new_point)/2 > eps:\n",
    "        point = point_new\n",
    "        point_new = func.create_point(point.array + step * random_vector)\n",
    "        f_point = func(point)\n",
    "        f_new_point = func(point_new)\n",
    "        if f_new_point > f_point:\n",
    "            count_fails += 1\n",
    "            step /= 2\n",
    "        else:\n",
    "            count_fails = 0\n",
    "            \n",
    "        if count_fails >= count_failures:\n",
    "            point = func.create_point(point.array - count_fails * random_vector)\n",
    "            random_vector = create_random_vec(func.size())\n",
    "            point_new = func.create_point(point.array + step * random_vector)\n",
    "            count_fails = 0\n",
    "\n",
    "    return point_new"
   ]
  },
  {
   "cell_type": "code",
   "execution_count": null,
   "metadata": {},
   "outputs": [
    {
     "name": "stdout",
     "output_type": "stream",
     "text": [
      "[-0.06580141]\n",
      "0.004329826115003054\n"
     ]
    }
   ],
   "source": [
    "point = random_direction_correting_steps(Func1d())\n",
    "print(point.array)\n",
    "print(Func1d()(point))"
   ]
  },
  {
   "cell_type": "code",
   "execution_count": null,
   "metadata": {},
   "outputs": [
    {
     "name": "stdout",
     "output_type": "stream",
     "text": [
      "[ 0.23102187 -0.54039701 -0.83265045  1.52906069  1.69991517 -1.56207738\n",
      " -0.66298022]\n",
      "0.13810734226835242\n"
     ]
    }
   ],
   "source": [
    "point = random_direction_correting_steps(Func7d())\n",
    "print(point.array)\n",
    "print(Func7d()(point))"
   ]
  },
  {
   "cell_type": "code",
   "execution_count": 373,
   "metadata": {},
   "outputs": [],
   "source": [
    "def random_direction_correting_steps(func: Func, eps: float=0.005, step: float=2, count_failures: int=3) -> tuple[Point, pd.DataFrame]:\n",
    "    def create_random_vec(size) -> np.ndarray:\n",
    "        random_vector = np.random.randn(size)\n",
    "        return random_vector / np.linalg.norm(random_vector)\n",
    "\n",
    "    random_vector = create_random_vec(func.size())\n",
    "\n",
    "    df = []\n",
    "    point = func.create_point(np.random.rand(func.size()))\n",
    "    df.append(point.array)\n",
    "    point_new = func.create_point(point.array + step * random_vector)\n",
    "\n",
    "    f_point = func(point)\n",
    "    f_new_point = func(point_new)\n",
    "\n",
    "    count_fails = 0\n",
    "    while abs(f_point - f_new_point)/2 > eps:\n",
    "        point = point_new\n",
    "        df.append(point.array)\n",
    "        point_new = func.create_point(point.array + step * random_vector)\n",
    "        f_point = func(point)\n",
    "        f_new_point = func(point_new)\n",
    "        if f_new_point > f_point:\n",
    "            count_fails += 1\n",
    "            step /= 2\n",
    "        else:\n",
    "            count_fails = 0\n",
    "            \n",
    "        if count_fails >= count_failures:\n",
    "            point = func.create_point(point.array - count_fails * random_vector)\n",
    "            df.append(point.array)\n",
    "            random_vector = create_random_vec(func.size())\n",
    "            point_new = func.create_point(point.array + step * random_vector)\n",
    "            count_fails = 0\n",
    "\n",
    "    return point_new, pd.DataFrame(df)"
   ]
  },
  {
   "cell_type": "code",
   "execution_count": 374,
   "metadata": {},
   "outputs": [
    {
     "name": "stdout",
     "output_type": "stream",
     "text": [
      "[1.89705653 0.47894626]\n",
      "2.376002791272249\n"
     ]
    }
   ],
   "source": [
    "point, df = random_direction_correting_steps(Func2d())\n",
    "print(point.array)\n",
    "print(Func2d()(point))\n",
    "df.to_csv('my_data2.csv', index=False)"
   ]
  }
 ],
 "metadata": {
  "kernelspec": {
   "display_name": "Python 3",
   "language": "python",
   "name": "python3"
  },
  "language_info": {
   "codemirror_mode": {
    "name": "ipython",
    "version": 3
   },
   "file_extension": ".py",
   "mimetype": "text/x-python",
   "name": "python",
   "nbconvert_exporter": "python",
   "pygments_lexer": "ipython3",
   "version": "3.10.6"
  }
 },
 "nbformat": 4,
 "nbformat_minor": 2
}
